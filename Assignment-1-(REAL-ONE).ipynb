{
 "cells": [
  {
   "cell_type": "code",
   "execution_count": 1,
   "id": "6d0176be",
   "metadata": {},
   "outputs": [
    {
     "name": "stdout",
     "output_type": "stream",
     "text": [
      "Soal 1\n"
     ]
    }
   ],
   "source": [
    "print('Soal 1') #Maaf- aku bikin Assignmentnya jadi 1 karena agak susah masukin/upload ke git-\n",
    "                #Also maaf aku ga tau cara remove Assigment 1 yang tadi-"
   ]
  },
  {
   "cell_type": "code",
   "execution_count": 2,
   "id": "1254aec9",
   "metadata": {},
   "outputs": [
    {
     "name": "stdout",
     "output_type": "stream",
     "text": [
      "Nama : Verena\n",
      "Umur : 13\n",
      "tinggi : 165\n"
     ]
    }
   ],
   "source": [
    "nama = str(input('Nama : '))\n",
    "umur = int(input('Umur : '))\n",
    "tinggi = float(input('tinggi : '))"
   ]
  },
  {
   "cell_type": "code",
   "execution_count": 3,
   "id": "02c2e7a1",
   "metadata": {},
   "outputs": [],
   "source": [
    "x = \"Nama saya {}, umur saya {} tahun dan tinggi saya {} cm.\".format(nama, umur, tinggi)"
   ]
  },
  {
   "cell_type": "code",
   "execution_count": 4,
   "id": "8391d5bc",
   "metadata": {},
   "outputs": [
    {
     "name": "stdout",
     "output_type": "stream",
     "text": [
      "Nama saya Verena, umur saya 13 tahun dan tinggi saya 165.0 cm.\n"
     ]
    }
   ],
   "source": [
    "print(x)"
   ]
  },
  {
   "cell_type": "code",
   "execution_count": 5,
   "id": "0dfc6aa8",
   "metadata": {},
   "outputs": [
    {
     "name": "stdout",
     "output_type": "stream",
     "text": [
      "Soal 2\n"
     ]
    }
   ],
   "source": [
    "print('Soal 2')"
   ]
  },
  {
   "cell_type": "code",
   "execution_count": 6,
   "id": "5cdcad40",
   "metadata": {},
   "outputs": [
    {
     "name": "stdout",
     "output_type": "stream",
     "text": [
      "10\n"
     ]
    }
   ],
   "source": [
    "R = float(input(''))\n",
    "Pi = 22/7\n",
    "L = Pi*R*R"
   ]
  },
  {
   "cell_type": "code",
   "execution_count": 7,
   "id": "d657a9d0",
   "metadata": {},
   "outputs": [
    {
     "name": "stdout",
     "output_type": "stream",
     "text": [
      "314.2857142857143\n"
     ]
    }
   ],
   "source": [
    "print(L)"
   ]
  },
  {
   "cell_type": "code",
   "execution_count": 8,
   "id": "c3b66a6b",
   "metadata": {},
   "outputs": [],
   "source": [
    "x = \"Luas lingkaran dengan jari-jari {} cm adalah {:.2f} cm².\".format(R, L)"
   ]
  },
  {
   "cell_type": "code",
   "execution_count": 9,
   "id": "a49507d8",
   "metadata": {},
   "outputs": [
    {
     "name": "stdout",
     "output_type": "stream",
     "text": [
      "Luas lingkaran dengan jari-jari 10.0 cm adalah 314.29 cm².\n"
     ]
    }
   ],
   "source": [
    "print(x)"
   ]
  },
  {
   "cell_type": "code",
   "execution_count": 10,
   "id": "50c779f8",
   "metadata": {},
   "outputs": [
    {
     "name": "stdout",
     "output_type": "stream",
     "text": [
      "Soal 3\n"
     ]
    }
   ],
   "source": [
    "print('Soal 3')"
   ]
  },
  {
   "cell_type": "code",
   "execution_count": 11,
   "id": "1eba7e79",
   "metadata": {},
   "outputs": [],
   "source": [
    "T = 80 #Ini Nilai teori\n",
    "P = 90 #Ini Nilai praktek\n",
    "K = 70 #Ini Syarat Kelulusan"
   ]
  },
  {
   "cell_type": "code",
   "execution_count": 12,
   "id": "652afb78",
   "metadata": {},
   "outputs": [
    {
     "name": "stdout",
     "output_type": "stream",
     "text": [
      "Selamat, anda lulus!\n"
     ]
    }
   ],
   "source": [
    "if T > K and P > K :\n",
    "    print ('Selamat, anda lulus!')\n",
    "elif T < K and P > K  : \n",
    "    print ('Anda harus mengulang ujian teori.')\n",
    "elif P < K and T > K :\n",
    "    print ('Anda harus mengulang ujian praktek.')\n",
    "elif T < K and P < K :\n",
    "    print ('Anda harus mengulang ujian teori dan praktek.')"
   ]
  },
  {
   "cell_type": "code",
   "execution_count": 13,
   "id": "27a0b939",
   "metadata": {},
   "outputs": [
    {
     "name": "stdout",
     "output_type": "stream",
     "text": [
      "thats it for now thank you for reading this or som-\n"
     ]
    }
   ],
   "source": [
    "print('thats it for now thank you for reading this or som-')"
   ]
  }
 ],
 "metadata": {
  "kernelspec": {
   "display_name": "Python 3 (ipykernel)",
   "language": "python",
   "name": "python3"
  },
  "language_info": {
   "codemirror_mode": {
    "name": "ipython",
    "version": 3
   },
   "file_extension": ".py",
   "mimetype": "text/x-python",
   "name": "python",
   "nbconvert_exporter": "python",
   "pygments_lexer": "ipython3",
   "version": "3.10.5"
  }
 },
 "nbformat": 4,
 "nbformat_minor": 5
}
