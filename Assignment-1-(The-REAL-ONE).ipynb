{
 "cells": [
  {
   "cell_type": "code",
   "execution_count": 4,
   "id": "095f25bd",
   "metadata": {},
   "outputs": [
    {
     "name": "stdout",
     "output_type": "stream",
     "text": [
      "Soal 1\n"
     ]
    }
   ],
   "source": [
    "print('Soal 1') #Maaf- aku bikin Assignmentnya jadi 1 karena agak susah masukin/upload ke git-\n",
    "                #Also maaf aku ga tau cara remove Assigment 1 yang tadi-"
   ]
  },
  {
   "cell_type": "code",
   "execution_count": 1,
   "id": "bca86aea",
   "metadata": {},
   "outputs": [
    {
     "name": "stdout",
     "output_type": "stream",
     "text": [
      "Nama : Verena\n",
      "Umur : 13\n",
      "tinggi : 165\n"
     ]
    }
   ],
   "source": [
    "nama = str(input('Nama : '))\n",
    "umur = int(input('Umur : '))\n",
    "tinggi = float(input('tinggi : '))"
   ]
  },
  {
   "cell_type": "code",
   "execution_count": 2,
   "id": "dec1b188",
   "metadata": {},
   "outputs": [],
   "source": [
    "x = \"Nama saya {}, umur saya {} tahun dan tinggi saya {} cm.\".format(nama, umur, tinggi)"
   ]
  },
  {
   "cell_type": "code",
   "execution_count": 3,
   "id": "fa6d3419",
   "metadata": {},
   "outputs": [
    {
     "name": "stdout",
     "output_type": "stream",
     "text": [
      "Nama saya Verena, umur saya 13 tahun dan tinggi saya 165.0 cm.\n"
     ]
    }
   ],
   "source": [
    "print(x)"
   ]
  },
  {
   "cell_type": "code",
   "execution_count": 5,
   "id": "611f4b10",
   "metadata": {},
   "outputs": [
    {
     "name": "stdout",
     "output_type": "stream",
     "text": [
      "Soal 2\n"
     ]
    }
   ],
   "source": [
    "print('Soal 2')"
   ]
  },
  {
   "cell_type": "code",
   "execution_count": 11,
   "id": "651e9717",
   "metadata": {},
   "outputs": [
    {
     "name": "stdout",
     "output_type": "stream",
     "text": [
      "10\n"
     ]
    }
   ],
   "source": [
    "R = float(input(''))\n",
    "Pi = 22/7\n",
    "L = Pi*R*R"
   ]
  },
  {
   "cell_type": "code",
   "execution_count": 12,
   "id": "ca0eef7f",
   "metadata": {},
   "outputs": [
    {
     "name": "stdout",
     "output_type": "stream",
     "text": [
      "314.2857142857143\n"
     ]
    }
   ],
   "source": [
    "print(L)"
   ]
  },
  {
   "cell_type": "code",
   "execution_count": 13,
   "id": "7b3ea905",
   "metadata": {},
   "outputs": [],
   "source": [
    "x = \"Luas lingkaran dengan jari-jari {} cm adalah {:.2f} cm².\".format(R, L)"
   ]
  },
  {
   "cell_type": "code",
   "execution_count": 14,
   "id": "fa60b7fe",
   "metadata": {},
   "outputs": [
    {
     "name": "stdout",
     "output_type": "stream",
     "text": [
      "Luas lingkaran dengan jari-jari 10.0 cm adalah 314.29 cm².\n"
     ]
    }
   ],
   "source": [
    "print(x)"
   ]
  },
  {
   "cell_type": "code",
   "execution_count": 15,
   "id": "8bc6dfde",
   "metadata": {},
   "outputs": [
    {
     "name": "stdout",
     "output_type": "stream",
     "text": [
      "Soal 3\n"
     ]
    }
   ],
   "source": [
    "print('Soal 3')"
   ]
  },
  {
   "cell_type": "code",
   "execution_count": 17,
   "id": "6bea8706",
   "metadata": {},
   "outputs": [],
   "source": [
    "T = 80 #Ini Nilai teori\n",
    "P = 90 #Ini Nilai praktek\n",
    "K = 70 #Ini Syarat Kelulusan"
   ]
  },
  {
   "cell_type": "code",
   "execution_count": 18,
   "id": "b209d783",
   "metadata": {},
   "outputs": [
    {
     "name": "stdout",
     "output_type": "stream",
     "text": [
      "Selamat, anda lulus!\n"
     ]
    }
   ],
   "source": [
    "if T > K and P > K :\n",
    "    print ('Selamat, anda lulus!')\n",
    "elif T < K and P > K  : \n",
    "    print ('Anda harus mengulang ujian teori.')\n",
    "elif P < K and T > K :\n",
    "    print ('Anda harus mengulang ujian praktek.')\n",
    "elif T < K and P < K :\n",
    "    print ('Anda harus mengulang ujian teori dan praktek.')"
   ]
  }
 ],
 "metadata": {
  "kernelspec": {
   "display_name": "Python 3 (ipykernel)",
   "language": "python",
   "name": "python3"
  },
  "language_info": {
   "codemirror_mode": {
    "name": "ipython",
    "version": 3
   },
   "file_extension": ".py",
   "mimetype": "text/x-python",
   "name": "python",
   "nbconvert_exporter": "python",
   "pygments_lexer": "ipython3",
   "version": "3.10.5"
  }
 },
 "nbformat": 4,
 "nbformat_minor": 5
}
