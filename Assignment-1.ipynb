{
 "cells": [
  {
   "cell_type": "code",
   "execution_count": 1,
   "id": "9b9bb41b",
   "metadata": {},
   "outputs": [
    {
     "name": "stdout",
     "output_type": "stream",
     "text": [
      "Nama : Verena\n",
      "Umur : 13\n",
      "tinggi : 165\n"
     ]
    }
   ],
   "source": [
    "nama = str(input('Nama : '))\n",
    "umur = int(input('Umur : '))\n",
    "tinggi = float(input('tinggi : '))"
   ]
  },
  {
   "cell_type": "code",
   "execution_count": 2,
   "id": "f5a43abb",
   "metadata": {},
   "outputs": [],
   "source": [
    "x = \"Nama saya {}, umur saya {} tahun dan tinggi saya {} cm.\".format(nama, umur, tinggi)"
   ]
  },
  {
   "cell_type": "code",
   "execution_count": 3,
   "id": "fdffc0f1",
   "metadata": {},
   "outputs": [
    {
     "name": "stdout",
     "output_type": "stream",
     "text": [
      "Nama saya Verena, umur saya 13 tahun dan tinggi saya 165.0 cm.\n"
     ]
    }
   ],
   "source": [
    "print(x)"
   ]
  }
 ],
 "metadata": {
  "kernelspec": {
   "display_name": "Python 3 (ipykernel)",
   "language": "python",
   "name": "python3"
  },
  "language_info": {
   "codemirror_mode": {
    "name": "ipython",
    "version": 3
   },
   "file_extension": ".py",
   "mimetype": "text/x-python",
   "name": "python",
   "nbconvert_exporter": "python",
   "pygments_lexer": "ipython3",
   "version": "3.10.5"
  }
 },
 "nbformat": 4,
 "nbformat_minor": 5
}
