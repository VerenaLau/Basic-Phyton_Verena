{
 "cells": [
  {
   "cell_type": "code",
   "execution_count": 4,
   "id": "8e395f46",
   "metadata": {},
   "outputs": [
    {
     "name": "stdout",
     "output_type": "stream",
     "text": [
      "Soal 1\n"
     ]
    }
   ],
   "source": [
    "print('Soal 1') #Maaf- aku bikin Assignmentnya jadi 1 karena agak susah masukin/upload ke git-"
   ]
  },
  {
   "cell_type": "code",
   "execution_count": 1,
   "id": "fb8004db",
   "metadata": {},
   "outputs": [
    {
     "name": "stdout",
     "output_type": "stream",
     "text": [
      "Nama : Verena\n",
      "Umur : 13\n",
      "tinggi : 165\n"
     ]
    }
   ],
   "source": [
    "nama = str(input('Nama : '))\n",
    "umur = int(input('Umur : '))\n",
    "tinggi = float(input('tinggi : '))"
   ]
  },
  {
   "cell_type": "code",
   "execution_count": 2,
   "id": "051effad",
   "metadata": {},
   "outputs": [],
   "source": [
    "x = \"Nama saya {}, umur saya {} tahun dan tinggi saya {} cm.\".format(nama, umur, tinggi)"
   ]
  },
  {
   "cell_type": "code",
   "execution_count": 3,
   "id": "5f4ebe4e",
   "metadata": {},
   "outputs": [
    {
     "name": "stdout",
     "output_type": "stream",
     "text": [
      "Nama saya Verena, umur saya 13 tahun dan tinggi saya 165.0 cm.\n"
     ]
    }
   ],
   "source": [
    "print(x)"
   ]
  },
  {
   "cell_type": "code",
   "execution_count": 5,
   "id": "7eea7a05",
   "metadata": {},
   "outputs": [
    {
     "name": "stdout",
     "output_type": "stream",
     "text": [
      "Soal 2\n"
     ]
    }
   ],
   "source": [
    "print('Soal 2')"
   ]
  },
  {
   "cell_type": "code",
   "execution_count": 11,
   "id": "ab512407",
   "metadata": {},
   "outputs": [
    {
     "name": "stdout",
     "output_type": "stream",
     "text": [
      "10\n"
     ]
    }
   ],
   "source": [
    "R = float(input(''))\n",
    "Pi = 22/7\n",
    "L = Pi*R*R"
   ]
  },
  {
   "cell_type": "code",
   "execution_count": 12,
   "id": "7c9e13ed",
   "metadata": {},
   "outputs": [
    {
     "name": "stdout",
     "output_type": "stream",
     "text": [
      "314.2857142857143\n"
     ]
    }
   ],
   "source": [
    "print(L)"
   ]
  },
  {
   "cell_type": "code",
   "execution_count": 13,
   "id": "1a0553e9",
   "metadata": {},
   "outputs": [],
   "source": [
    "x = \"Luas lingkaran dengan jari-jari {} cm adalah {:.2f} cm².\".format(R, L)"
   ]
  },
  {
   "cell_type": "code",
   "execution_count": 14,
   "id": "6f6d228b",
   "metadata": {},
   "outputs": [
    {
     "name": "stdout",
     "output_type": "stream",
     "text": [
      "Luas lingkaran dengan jari-jari 10.0 cm adalah 314.29 cm².\n"
     ]
    }
   ],
   "source": [
    "print(x)"
   ]
  },
  {
   "cell_type": "code",
   "execution_count": 15,
   "id": "7872b012",
   "metadata": {},
   "outputs": [
    {
     "name": "stdout",
     "output_type": "stream",
     "text": [
      "Soal 3\n"
     ]
    }
   ],
   "source": [
    "print('Soal 3')"
   ]
  },
  {
   "cell_type": "code",
   "execution_count": 17,
   "id": "5994f9e0",
   "metadata": {},
   "outputs": [],
   "source": [
    "T = 80 #Ini Nilai teori\n",
    "P = 90 #Ini Nilai praktek\n",
    "K = 70 #Ini Syarat Kelulusan"
   ]
  },
  {
   "cell_type": "code",
   "execution_count": 18,
   "id": "2b3a7827",
   "metadata": {},
   "outputs": [
    {
     "name": "stdout",
     "output_type": "stream",
     "text": [
      "Selamat, anda lulus!\n"
     ]
    }
   ],
   "source": [
    "if T > K and P > K :\n",
    "    print ('Selamat, anda lulus!')\n",
    "elif T < K and P > K  : \n",
    "    print ('Anda harus mengulang ujian teori.')\n",
    "elif P < K and T > K :\n",
    "    print ('Anda harus mengulang ujian praktek.')\n",
    "elif T < K and P < K :\n",
    "    print ('Anda harus mengulang ujian teori dan praktek.')"
   ]
  }
 ],
 "metadata": {
  "kernelspec": {
   "display_name": "Python 3 (ipykernel)",
   "language": "python",
   "name": "python3"
  },
  "language_info": {
   "codemirror_mode": {
    "name": "ipython",
    "version": 3
   },
   "file_extension": ".py",
   "mimetype": "text/x-python",
   "name": "python",
   "nbconvert_exporter": "python",
   "pygments_lexer": "ipython3",
   "version": "3.10.5"
  }
 },
 "nbformat": 4,
 "nbformat_minor": 5
}
