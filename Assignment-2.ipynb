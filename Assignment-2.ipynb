{
 "cells": [
  {
   "cell_type": "code",
   "execution_count": 1,
   "id": "bb3ecd2f",
   "metadata": {},
   "outputs": [
    {
     "name": "stdout",
     "output_type": "stream",
     "text": [
      "Hallo, Selamat Datang! \n",
      "--Menu Utama \n",
      "1. Daftar Kontak \n",
      "2. Tambah Kontak \n",
      "3. keluar \n",
      "\n",
      "\n",
      " Pilih menu: 1\n",
      "Daftar Kontak: \n",
      "Nama :  Fawwaz\n",
      "Nomor Telepon :  08123456789\n",
      "Nama :  John\n",
      "Nomor Telepon :  08987654321\n",
      "\n",
      " Pilih menu: 2\n",
      "Nama Verena\n",
      "Nomor Telepon: 0912 3675 9832\n",
      "Kontak berhasil ditambahkan\n",
      "\n",
      " Pilih menu: 1\n",
      "Daftar Kontak: \n",
      "Nama :  Fawwaz\n",
      "Nomor Telepon :  08123456789\n",
      "Nama :  John\n",
      "Nomor Telepon :  08987654321\n",
      "Nama :  Verena\n",
      "Nomor Telepon :  0912 3675 9832\n",
      "\n",
      " Pilih menu: 3\n",
      "Program selesai, sampai jumpa!\n"
     ]
    }
   ],
   "source": [
    "dictionary = { \"Fawwaz\" : \"08123456789\", \n",
    "    \"John\" : \"08987654321\" }\n",
    "\n",
    "def daftarkontak():\n",
    "    print(\"Daftar Kontak: \")\n",
    "    for x in dictionary:\n",
    "        print(\"Nama : \", x) \n",
    "        print(\"Nomor Telepon : \", dictionary[x])\n",
    "\n",
    "def tambahkontak():\n",
    "    nama=input(\"Nama \")\n",
    "    no_telp=input(\"Nomor Telepon: \")\n",
    "    dictionary.update({nama: no_telp}) \n",
    "    print(\"Kontak berhasil ditambahkan\")\n",
    "\n",
    "print(\"Hallo, Selamat Datang! \\n--Menu Utama \\n1. Daftar Kontak \\n2. Tambah Kontak \\n3. keluar \\n\")\n",
    "\n",
    "while True:\n",
    "    pilih=int(input(\"\\n Pilih menu: \"))\n",
    "    \n",
    "    if pilih == 1: \n",
    "        daftarkontak()\n",
    "    elif pilih == 2: \n",
    "        tambahkontak() \n",
    "    elif pilih == 3: \n",
    "        print(\"Program selesai, sampai jumpa!\") \n",
    "        break\n",
    "    else:\n",
    "        print(\"Menu tidak tersedia.\")"
   ]
  }
 ],
 "metadata": {
  "kernelspec": {
   "display_name": "Python 3 (ipykernel)",
   "language": "python",
   "name": "python3"
  },
  "language_info": {
   "codemirror_mode": {
    "name": "ipython",
    "version": 3
   },
   "file_extension": ".py",
   "mimetype": "text/x-python",
   "name": "python",
   "nbconvert_exporter": "python",
   "pygments_lexer": "ipython3",
   "version": "3.10.5"
  }
 },
 "nbformat": 4,
 "nbformat_minor": 5
}
